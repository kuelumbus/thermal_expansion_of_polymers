{
 "cells": [
  {
   "cell_type": "markdown",
   "metadata": {},
   "source": [
    "# Black box model\n",
    "\n",
    "Use a neural network to train a black box model.  \n",
    "No model form is assumed in black box models\n"
   ]
  },
  {
   "cell_type": "code",
   "execution_count": 1,
   "metadata": {},
   "outputs": [
    {
     "data": {
      "text/html": [
       "<div>\n",
       "<style scoped>\n",
       "    .dataframe tbody tr th:only-of-type {\n",
       "        vertical-align: middle;\n",
       "    }\n",
       "\n",
       "    .dataframe tbody tr th {\n",
       "        vertical-align: top;\n",
       "    }\n",
       "\n",
       "    .dataframe thead th {\n",
       "        text-align: right;\n",
       "    }\n",
       "</style>\n",
       "<table border=\"1\" class=\"dataframe\">\n",
       "  <thead>\n",
       "    <tr style=\"text-align: right;\">\n",
       "      <th></th>\n",
       "      <th>polymer</th>\n",
       "      <th>abb</th>\n",
       "      <th>alpha_exp</th>\n",
       "      <th>Tg</th>\n",
       "      <th>smiles</th>\n",
       "      <th>1/Tg</th>\n",
       "    </tr>\n",
       "  </thead>\n",
       "  <tbody>\n",
       "    <tr>\n",
       "      <th>0</th>\n",
       "      <td>Poly(butyl methacrylate)</td>\n",
       "      <td>PBMA</td>\n",
       "      <td>0.000207</td>\n",
       "      <td>294</td>\n",
       "      <td>*CC(*)(C)C(=O)OCCC</td>\n",
       "      <td>0.003401</td>\n",
       "    </tr>\n",
       "    <tr>\n",
       "      <th>1</th>\n",
       "      <td>Poly(dimethyl siloxane)</td>\n",
       "      <td>PDMS</td>\n",
       "      <td>0.000302</td>\n",
       "      <td>149</td>\n",
       "      <td>*O[Si](*)(C)C</td>\n",
       "      <td>0.006711</td>\n",
       "    </tr>\n",
       "    <tr>\n",
       "      <th>2</th>\n",
       "      <td>Poly(ethyl methacrylate)</td>\n",
       "      <td>PEMA</td>\n",
       "      <td>0.000090</td>\n",
       "      <td>338</td>\n",
       "      <td>*CC(*)(C)C(=O)OCC</td>\n",
       "      <td>0.002959</td>\n",
       "    </tr>\n",
       "    <tr>\n",
       "      <th>3</th>\n",
       "      <td>Polyisobutylene</td>\n",
       "      <td>PIB</td>\n",
       "      <td>0.000183</td>\n",
       "      <td>202</td>\n",
       "      <td>*CC(*)(C)C</td>\n",
       "      <td>0.004950</td>\n",
       "    </tr>\n",
       "    <tr>\n",
       "      <th>4</th>\n",
       "      <td>Poly(methyl methacrylate)</td>\n",
       "      <td>PMMA</td>\n",
       "      <td>0.000060</td>\n",
       "      <td>317</td>\n",
       "      <td>*CC(*)(C)C(=O)OC</td>\n",
       "      <td>0.003155</td>\n",
       "    </tr>\n",
       "    <tr>\n",
       "      <th>5</th>\n",
       "      <td>Polyamide6</td>\n",
       "      <td>PA6</td>\n",
       "      <td>0.000085</td>\n",
       "      <td>325</td>\n",
       "      <td>*CCCCCC(=O)N*</td>\n",
       "      <td>0.003077</td>\n",
       "    </tr>\n",
       "    <tr>\n",
       "      <th>6</th>\n",
       "      <td>Polyacrylonitrile</td>\n",
       "      <td>PAN</td>\n",
       "      <td>0.000065</td>\n",
       "      <td>383</td>\n",
       "      <td>*CC(*)C#N</td>\n",
       "      <td>0.002611</td>\n",
       "    </tr>\n",
       "    <tr>\n",
       "      <th>7</th>\n",
       "      <td>Poly(caprolactone)</td>\n",
       "      <td>PCL</td>\n",
       "      <td>0.000165</td>\n",
       "      <td>207</td>\n",
       "      <td>*CCCCCC(=O)O*</td>\n",
       "      <td>0.004831</td>\n",
       "    </tr>\n",
       "    <tr>\n",
       "      <th>8</th>\n",
       "      <td>Poly(chlorotrifluoroethylene)</td>\n",
       "      <td>PCTFE</td>\n",
       "      <td>0.000055</td>\n",
       "      <td>360</td>\n",
       "      <td>*C(F)(F)C(*)(F)Cl</td>\n",
       "      <td>0.002778</td>\n",
       "    </tr>\n",
       "    <tr>\n",
       "      <th>9</th>\n",
       "      <td>Poly(ether ether ketone)</td>\n",
       "      <td>PEEK</td>\n",
       "      <td>0.000077</td>\n",
       "      <td>421</td>\n",
       "      <td>*Oc1ccc(Oc2ccc(C(=O)c3ccc(*)cc3)cc2)cc1C(C)(C)C</td>\n",
       "      <td>0.002375</td>\n",
       "    </tr>\n",
       "    <tr>\n",
       "      <th>10</th>\n",
       "      <td>Polyethylene terephthalate</td>\n",
       "      <td>PET</td>\n",
       "      <td>0.000070</td>\n",
       "      <td>350</td>\n",
       "      <td>*CCOC(=O)c1ccc(C(=O)O*)cc1</td>\n",
       "      <td>0.002857</td>\n",
       "    </tr>\n",
       "  </tbody>\n",
       "</table>\n",
       "</div>"
      ],
      "text/plain": [
       "                          polymer    abb  alpha_exp   Tg  \\\n",
       "0        Poly(butyl methacrylate)   PBMA   0.000207  294   \n",
       "1         Poly(dimethyl siloxane)   PDMS   0.000302  149   \n",
       "2        Poly(ethyl methacrylate)   PEMA   0.000090  338   \n",
       "3                 Polyisobutylene    PIB   0.000183  202   \n",
       "4       Poly(methyl methacrylate)   PMMA   0.000060  317   \n",
       "5                      Polyamide6    PA6   0.000085  325   \n",
       "6               Polyacrylonitrile    PAN   0.000065  383   \n",
       "7              Poly(caprolactone)    PCL   0.000165  207   \n",
       "8   Poly(chlorotrifluoroethylene)  PCTFE   0.000055  360   \n",
       "9        Poly(ether ether ketone)   PEEK   0.000077  421   \n",
       "10     Polyethylene terephthalate    PET   0.000070  350   \n",
       "\n",
       "                                             smiles      1/Tg  \n",
       "0                                *CC(*)(C)C(=O)OCCC  0.003401  \n",
       "1                                     *O[Si](*)(C)C  0.006711  \n",
       "2                                 *CC(*)(C)C(=O)OCC  0.002959  \n",
       "3                                        *CC(*)(C)C  0.004950  \n",
       "4                                  *CC(*)(C)C(=O)OC  0.003155  \n",
       "5                                     *CCCCCC(=O)N*  0.003077  \n",
       "6                                         *CC(*)C#N  0.002611  \n",
       "7                                     *CCCCCC(=O)O*  0.004831  \n",
       "8                                 *C(F)(F)C(*)(F)Cl  0.002778  \n",
       "9   *Oc1ccc(Oc2ccc(C(=O)c3ccc(*)cc3)cc2)cc1C(C)(C)C  0.002375  \n",
       "10                       *CCOC(=O)c1ccc(C(=O)O*)cc1  0.002857  "
      ]
     },
     "execution_count": 1,
     "metadata": {},
     "output_type": "execute_result"
    }
   ],
   "source": [
    "import pandas as pd\n",
    "df = pd.read_pickle('dataset.pkl')\n",
    "df['1/Tg'] = 1/ df.Tg\n",
    "df"
   ]
  },
  {
   "cell_type": "code",
   "execution_count": 55,
   "metadata": {},
   "outputs": [
    {
     "name": "stdout",
     "output_type": "stream",
     "text": [
      "Model: \"model_13\"\n",
      "_________________________________________________________________\n",
      " Layer (type)                Output Shape              Param #   \n",
      "=================================================================\n",
      " input_14 (InputLayer)       [(None, 1)]               0         \n",
      "                                                                 \n",
      " dense_39 (Dense)            (None, 50)                100       \n",
      "                                                                 \n",
      " dense_40 (Dense)            (None, 1)                 51        \n",
      "                                                                 \n",
      "=================================================================\n",
      "Total params: 151\n",
      "Trainable params: 151\n",
      "Non-trainable params: 0\n",
      "_________________________________________________________________\n"
     ]
    }
   ],
   "source": [
    "\n",
    "import tensorflow as tf\n",
    "from tensorflow import keras\n",
    "from tensorflow.keras import layers\n",
    "\n",
    "# Create simple tensorflow model with some layers and activation functions\n",
    "\n",
    "inputs = keras.Input(shape=(1))\n",
    "x = inputs\n",
    "x = layers.Dense(50, activation='tanh')(x)\n",
    "# x = layers.Dense(50, activation='relu')(x)\n",
    "\n",
    "# We want a single output (alpha)\n",
    "x = layers.Dense(1)(x)\n",
    "\n",
    "model = keras.Model(inputs=inputs, outputs=x)\n",
    "model.compile(optimizer='adam', loss='mse')\n",
    "model.summary()\n",
    "\n",
    "# Train model\n",
    "xx = df[\"1/Tg\"].values\n",
    "yy = df.alpha_exp.values\n",
    "hist = model.fit(xx, yy, epochs=300, verbose=0, batch_size=5)"
   ]
  },
  {
   "cell_type": "code",
   "execution_count": 56,
   "metadata": {},
   "outputs": [
    {
     "data": {
      "text/plain": [
       "1.63475322167983e-09"
      ]
     },
     "execution_count": 56,
     "metadata": {},
     "output_type": "execute_result"
    }
   ],
   "source": [
    "# Show best loss value\n",
    "hist.history['loss'][-1]"
   ]
  },
  {
   "cell_type": "code",
   "execution_count": 57,
   "metadata": {},
   "outputs": [
    {
     "data": {
      "text/plain": [
       "[<matplotlib.lines.Line2D at 0x7fb02de4f8b0>]"
      ]
     },
     "execution_count": 57,
     "metadata": {},
     "output_type": "execute_result"
    },
    {
     "data": {
      "image/png": "[encoded data removed]",
      "text/plain": [
       "<Figure size 432x288 with 1 Axes>"
      ]
     },
     "metadata": {},
     "output_type": "display_data"
    }
   ],
   "source": [
    "# Plot the prediction\n",
    "import numpy as np\n",
    "import matplotlib.pyplot as plt\n",
    "import seaborn as sns\n",
    "\n",
    "sns.set(style=\"ticks\")\n",
    "f, ax = plt.subplots(1, 1)\n",
    "df.plot(\n",
    "    x=\"1/Tg\",\n",
    "    y=\"alpha_exp\",\n",
    "    style=\"o\",\n",
    "    xlabel=\"1/Tg [1/K]\",\n",
    "    ylabel=\"measured CTE [1/K]\",\n",
    "    ax=ax,\n",
    ")\n",
    "xp = np.linspace(df[\"1/Tg\"].min(), df[\"1/Tg\"].max(), 100)\n",
    "ax.plot(xp.reshape(-1, 1), model.predict(xp.reshape(-1, 1)), \"-\")\n"
   ]
  },
  {
   "cell_type": "code",
   "execution_count": 58,
   "metadata": {},
   "outputs": [
    {
     "data": {
      "text/plain": [
       "0.00010446539"
      ]
     },
     "execution_count": 58,
     "metadata": {},
     "output_type": "execute_result"
    }
   ],
   "source": [
    "# For predictions\n",
    "Tg = 300\n",
    "alpha = model.predict([1/Tg])[0,0]\n",
    "alpha"
   ]
  }
 ],
 "metadata": {
  "interpreter": {
   "hash": "d507dc8273fc69c4ab099ff4f6edcd17c94afb70d76f64976ebc59a51cb2616c"
  },
  "kernelspec": {
   "display_name": "Python 3.9.2 ('.venv': poetry)",
   "language": "python",
   "name": "python3"
  },
  "language_info": {
   "codemirror_mode": {
    "name": "ipython",
    "version": 3
   },
   "file_extension": ".py",
   "mimetype": "text/x-python",
   "name": "python",
   "nbconvert_exporter": "python",
   "pygments_lexer": "ipython3",
   "version": "3.9.2"
  },
  "orig_nbformat": 4
 },
 "nbformat": 4,
 "nbformat_minor": 2
}
